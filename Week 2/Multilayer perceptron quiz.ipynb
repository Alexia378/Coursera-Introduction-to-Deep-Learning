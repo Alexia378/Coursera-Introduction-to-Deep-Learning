{
 "cells": [
  {
   "cell_type": "code",
   "execution_count": null,
   "metadata": {
    "collapsed": true
   },
   "outputs": [],
   "source": [
    "#Question 1:\n",
    "#Choose the correct statements about MLP\n",
    "#-MLP can have only 1 hidden layer\n",
    "#-We can train MLP with SGD\n",
    "#-MLP with a linear activation function is better than a linear model\n",
    "#-A hidden layer of MLP automatically learns new helpful features for the task\n",
    "#-The first hidden layer contains predictions for your task\n",
    "\n",
    "#Answer:\n",
    "#-We can train MLP with SGD\n",
    "#-A hidden layer of MLP automatically learns new helpful features for the task"
   ]
  },
  {
   "cell_type": "code",
   "execution_count": null,
   "outputs": [],
   "source": [
    "#Quiestion 2:\n",
    "#Apply a chain rule to calculate\n",
    "\n",
    "#Answer: y*cos(x*y)*exp(x) + sin(x*y)*exp(x)"
   ],
   "metadata": {
    "collapsed": false,
    "pycharm": {
     "name": "#%%\n"
    }
   }
  },
  {
   "cell_type": "code",
   "execution_count": null,
   "outputs": [],
   "source": [
    "#Question 3:\n",
    "#Choose the correct statements about backpropagation\n",
    "#-It is the way to train modern neural networks\n",
    "#-It is an efficient way to apply a chain rule\n",
    "#-It is done in one pass\n",
    "#-You can use non-differentiable loss to train your MLP\n",
    "\n",
    "#Answer:\n",
    "#-It is the way to train modern neural networks\n",
    "#-It is an efficient way to apply a chain rule"
   ],
   "metadata": {
    "collapsed": false,
    "pycharm": {
     "name": "#%%\n"
    }
   }
  },
  {
   "cell_type": "code",
   "execution_count": null,
   "outputs": [],
   "source": [
    "#Question 4:\n",
    "#What is the time complexity of backpropagation algorithm w.r.t. number of edges\n",
    "#N in the computational graph?\n",
    "#-O(N)\n",
    "#-O(N^2)\n",
    "#-O(N!)\n",
    "#-O(log(N))\n",
    "\n",
    "#Answer: O(N)"
   ],
   "metadata": {
    "collapsed": false,
    "pycharm": {
     "name": "#%%\n"
    }
   }
  }
 ],
 "metadata": {
  "kernelspec": {
   "display_name": "Python 2",
   "language": "python",
   "name": "python2"
  },
  "language_info": {
   "codemirror_mode": {
    "name": "ipython",
    "version": 2
   },
   "file_extension": ".py",
   "mimetype": "text/x-python",
   "name": "python",
   "nbconvert_exporter": "python",
   "pygments_lexer": "ipython2",
   "version": "2.7.6"
  }
 },
 "nbformat": 4,
 "nbformat_minor": 0
}