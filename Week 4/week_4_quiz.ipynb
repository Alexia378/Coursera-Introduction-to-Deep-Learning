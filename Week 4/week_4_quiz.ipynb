{
 "cells": [
  {
   "cell_type": "markdown",
   "metadata": {
    "collapsed": true,
    "pycharm": {
     "name": "#%% md\n"
    }
   },
   "source": [
    "1. Which of the following is true about word2vec model?\n",
    "\n",
    "Ans: It requires some text corpora for training.\n",
    "\n",
    "2. How can you train word2vec model?\n",
    "\n",
    "Ans:\n",
    "\n",
    " - By learning to predict context (neighboring words) given one word.\n",
    " - By minimizing crossentropy (aka maximizing likelihood).\n",
    " - By applying stochastic gradient descent.\n",
    " - By learning to predict omitted word by it's context.\n",
    "\n",
    "3. Here's an online demo of word2vec model. Let's use it to find synonyms for rare words. Don't forget to choose English GoogleNews model. Which of the following words is in top 10 synonyms for \"weltschmerz\".\n",
    "\n",
    "Ans: despair\n",
    "\n",
    "4. Which of the following is an appropriate way to measure similarity between word vectors v1 and v2? (more = better)\n",
    "\n",
    "Ans:\n",
    "\n",
    " - -||v1 - v2||\n",
    "\n",
    " - cos(v1,v2)\n",
    "\n",
    "\n"
   ]
  }
 ],
 "metadata": {
  "kernelspec": {
   "display_name": "Python 2",
   "language": "python",
   "name": "python2"
  },
  "language_info": {
   "codemirror_mode": {
    "name": "ipython",
    "version": 2
   },
   "file_extension": ".py",
   "mimetype": "text/x-python",
   "name": "python",
   "nbconvert_exporter": "python",
   "pygments_lexer": "ipython2",
   "version": "2.7.6"
  }
 },
 "nbformat": 4,
 "nbformat_minor": 0
}